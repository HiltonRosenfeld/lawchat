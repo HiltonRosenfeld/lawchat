{
 "cells": [
  {
   "cell_type": "markdown",
   "metadata": {},
   "source": [
    "# LawChat\n",
    "\n",
    "**Use natural language to query a library of previosuly cited legal cases**\n",
    "\n",
    "We make use of LangChain for:\n",
    "\n",
    "- managing the Vector Store: Cassandra\n",
    "- managing the embeddings: OpenAIEmbeddings\n",
    "- loading data from web pages\n",
    "- FLARE chain"
   ]
  },
  {
   "cell_type": "markdown",
   "metadata": {},
   "source": [
    "## Configuration"
   ]
  },
  {
   "cell_type": "markdown",
   "metadata": {},
   "source": [
    "**Create your `.env1` file**\n",
    "\n",
    "1. Copy the .env.example file to `.env`\n",
    "2. Specify your Astra and openAI parameters."
   ]
  },
  {
   "cell_type": "code",
   "execution_count": 1,
   "metadata": {},
   "outputs": [],
   "source": [
    "import os\n",
    "from dotenv import load_dotenv\n",
    "\n",
    "class Settings():\n",
    "    load_dotenv()\n",
    "    ASTRA_DB_KEYSPACE = os.environ['ASTRA_DB_KEYSPACE']\n",
    "    ASTRA_DB_SECURE_BUNDLE_PATH = os.environ['ASTRA_DB_SECURE_BUNDLE_PATH']\n",
    "    ASTRA_DB_APPLICATION_TOKEN = os.environ['ASTRA_DB_APPLICATION_TOKEN']\n",
    "    OPENAI_API_KEY = os.environ['OPENAI_API_KEY']"
   ]
  },
  {
   "cell_type": "markdown",
   "metadata": {},
   "source": [
    "## Astra DB Connectivity"
   ]
  },
  {
   "cell_type": "code",
   "execution_count": 3,
   "metadata": {},
   "outputs": [],
   "source": [
    "from cassandra.cluster import Cluster\n",
    "from cassandra.auth import PlainTextAuthProvider\n",
    "from cassandra.cqlengine import connection\n",
    "\n",
    "\n",
    "# load settings and keys\n",
    "settings = Settings\n",
    "\n",
    "\n",
    "def getCluster():\n",
    "    \"\"\"\n",
    "    Create a Cluster instance to connect to Astra DB.\n",
    "    Uses the secure-connect-bundle and the connection secrets.\n",
    "    \"\"\"\n",
    "    cloud_config = {\"secure_connect_bundle\": settings.ASTRA_DB_SECURE_BUNDLE_PATH}\n",
    "    auth_provider = PlainTextAuthProvider(\"token\", settings.ASTRA_DB_APPLICATION_TOKEN)\n",
    "    return Cluster(cloud=cloud_config, auth_provider=auth_provider)\n",
    "\n",
    "\n",
    "def get_astra():\n",
    "    \"\"\"\n",
    "    This function is used by LangChain Vectorstore.\n",
    "    \"\"\"\n",
    "    cluster = getCluster()\n",
    "    astraSession = cluster.connect()\n",
    "    return astraSession, settings.ASTRA_DB_KEYSPACE\n",
    "\n",
    "\n",
    "def initSession():\n",
    "    \"\"\"\n",
    "    Create the DB session and return it to the caller.\n",
    "    Most important, the session is also set as default and made available\n",
    "    to the object mapper through global settings. I.e., no need to actually\n",
    "    do anything with the return value of this function.\n",
    "    \"\"\"\n",
    "    cluster = getCluster()\n",
    "    session = cluster.connect()\n",
    "    session.set_keyspace(\"lawchat\")\n",
    "    connection.register_connection(\"my-astra-session\", session=session)\n",
    "    connection.set_default_connection(\"my-astra-session\")\n",
    "    return connection"
   ]
  },
  {
   "cell_type": "markdown",
   "metadata": {},
   "source": [
    "## Load library data\n",
    "\n",
    "We are using data from the Australasian Legal Information Institute. AustLII maintains collections of primary materials: legislation and court judgments (\"case law\"). \n",
    "\n",
    "For this project, we are sourcing case law from the Supreme Court of New South Wales."
   ]
  },
  {
   "cell_type": "markdown",
   "metadata": {},
   "source": [
    "#### Utility functions"
   ]
  },
  {
   "cell_type": "code",
   "execution_count": 4,
   "metadata": {},
   "outputs": [],
   "source": [
    "import re\n",
    "\n",
    "\"\"\"\n",
    "Function to clean text from web pages\n",
    "\"\"\"\n",
    "def clean_text(text: str):\n",
    "    # Normalize line breaks to \\n\\n (two new lines)\n",
    "    text = text.replace(\"\\r\\n\", \"\\n\\n\")\n",
    "    text = text.replace(\"\\r\", \"\\n\\n\")\n",
    "\n",
    "    # Replace two or more spaces with a single space\n",
    "    text = re.sub(\" {2,}\", \" \", text)\n",
    "\n",
    "    # Remove leading spaces before removing trailing spaces\n",
    "    text = re.sub(\"^[ \\t]+\", \"\", text, flags=re.MULTILINE)\n",
    "\n",
    "    # Remove trailing spaces before removing empty lines\n",
    "    text = re.sub(\"[ \\t]+$\", \"\", text, flags=re.MULTILINE)\n",
    "\n",
    "    # Remove empty lines\n",
    "    text = re.sub(\"^\\s+\", \"\", text, flags=re.MULTILINE)\n",
    "\n",
    "    return text\n"
   ]
  },
  {
   "cell_type": "code",
   "execution_count": 5,
   "metadata": {},
   "outputs": [],
   "source": [
    "import tiktoken\n",
    "\n",
    "\"\"\"\n",
    "Function to calculate the number of tokens in a text string.\n",
    "\"\"\"\n",
    "\n",
    "encoding = tiktoken.get_encoding(\"cl100k_base\")\n",
    "\n",
    "def num_tokens_from_string(string: str) -> int:\n",
    "    num_tokens = len(encoding.encode(string))\n",
    "    return num_tokens"
   ]
  },
  {
   "cell_type": "markdown",
   "metadata": {},
   "source": [
    "#### Define the Vector Store"
   ]
  },
  {
   "cell_type": "code",
   "execution_count": 6,
   "metadata": {},
   "outputs": [
    {
     "name": "stdout",
     "output_type": "stream",
     "text": [
      "Setup Vector Store\n"
     ]
    }
   ],
   "source": [
    "from langchain.vectorstores import Cassandra\n",
    "from langchain.embeddings.openai import OpenAIEmbeddings\n",
    "\n",
    "# define Embedding model\n",
    "embeddings = OpenAIEmbeddings()\n",
    "\n",
    "# Set up the vector store\n",
    "print(\"Setup Vector Store\")\n",
    "session, keyspace = get_astra()\n",
    "vectorstore = Cassandra(\n",
    "    embedding=embeddings,\n",
    "    session=session,\n",
    "    keyspace=keyspace,\n",
    "    table_name=\"nswsc\",\n",
    ")"
   ]
  },
  {
   "cell_type": "markdown",
   "metadata": {},
   "source": [
    "#### Get data files\n",
    "\n",
    "We load a number of HTML pages using the LangChain WebBaseLoader. Each of those pages contains lots of superfluous content so we extract only the rfelvant article."
   ]
  },
  {
   "cell_type": "code",
   "execution_count": 7,
   "metadata": {},
   "outputs": [
    {
     "name": "stdout",
     "output_type": "stream",
     "text": [
      "Loading Data\n",
      "Cleaning Data\n",
      "Number of documents: 5\n",
      "Number of tokens: 33772\n"
     ]
    }
   ],
   "source": [
    "from langchain.document_loaders import WebBaseLoader\n",
    "\n",
    "urls = [\n",
    "    \"https://www.austlii.edu.au/cgi-bin/viewdoc/au/cases/nsw/NSWSC/1998/423.html\",\n",
    "    \"https://www8.austlii.edu.au/cgi-bin/viewdoc/au/cases/nsw/NSWSC/2002/949.html\",\n",
    "    \"https://www8.austlii.edu.au/cgi-bin/viewdoc/au/cases/nsw/NSWSC/1998/4.html\",\n",
    "    \"https://www8.austlii.edu.au/cgi-bin/viewdoc/au/cases/nsw/NSWSC/2005/1181.html\",\n",
    "    \"https://www8.austlii.edu.au/cgi-bin/viewdoc/au/cases/nsw/NSWSC/1998/483.html\"\n",
    "    ]\n",
    "headers = {\n",
    "    \"User-Agent\": \"Mozilla/5.0 (Windows NT 10.0; Win64; x64) AppleWebKit/537.36 (KHTML, like Gecko) Chrome/102.0.0.0 Safari/537.36\"\n",
    "}\n",
    "\n",
    "print(\"Loading Data\")\n",
    "url_loaders = WebBaseLoader(urls, header_template=headers)\n",
    "data = url_loaders.load()\n",
    "\n",
    "\"\"\"\n",
    "Extract only the actual Article content from the web page and clean\n",
    "\"\"\"\n",
    "print(\"Cleaning Data\")\n",
    "for i, d in enumerate(data):\n",
    "    d.page_content = \"\"\n",
    "    source = d.metadata['source']\n",
    "    thedoc = WebBaseLoader(source, header_template=headers).scrape()\n",
    "    # extract only the Article content from the web page\n",
    "    td = thedoc.find(\"article\", {\"class\": \"the-document\"}).text\n",
    "    d.page_content = clean_text(td)\n",
    "    data[i] = d\n",
    "\n",
    "print (f\"Number of documents: {len(urls)}\")\n",
    "print (f\"Number of tokens: {num_tokens_from_string(data[0].page_content)}\")\n"
   ]
  },
  {
   "cell_type": "markdown",
   "metadata": {},
   "source": [
    "#### Split the data into chunks"
   ]
  },
  {
   "cell_type": "code",
   "execution_count": 8,
   "metadata": {},
   "outputs": [
    {
     "name": "stdout",
     "output_type": "stream",
     "text": [
      "Splitting Data\n",
      "Number of chunks: 226\n"
     ]
    }
   ],
   "source": [
    "from langchain.text_splitter import TokenTextSplitter\n",
    "\n",
    "CHUNK_SIZE = 500\n",
    "\n",
    "# Chunk the data\n",
    "print(\"Splitting Data\")\n",
    "text_splitter = TokenTextSplitter(chunk_size=CHUNK_SIZE, chunk_overlap=50)\n",
    "docs = text_splitter.split_documents(data)\n",
    "print(f\"Number of chunks: {len(docs)}\")"
   ]
  },
  {
   "cell_type": "markdown",
   "metadata": {},
   "source": [
    "#### Store data and embeddings in Astra DB"
   ]
  },
  {
   "cell_type": "code",
   "execution_count": 9,
   "metadata": {},
   "outputs": [
    {
     "name": "stdout",
     "output_type": "stream",
     "text": [
      "Adding texts to Vector Store\n"
     ]
    },
    {
     "data": {
      "text/plain": [
       "['de7f129c91ef47a18b08cab3d6faa700',\n",
       " 'ea2ec44d53304eceb95045a13eae09b3',\n",
       " 'f64a473ac3bd4fc080b09d9bc8c3b94e',\n",
       " '83372b245a674180bc51d6a90a9a9eef',\n",
       " '18594bcb70244ecdb7f8aa228e5807f9',\n",
       " '2b54cca552c747cd9bd441292bc04929',\n",
       " 'e3f256784609490ab01af4c76f2db541',\n",
       " 'c1b79a31730948d8810821b0808b2a43',\n",
       " '47b55fbfd17a410a9d5c6a070ff9727d',\n",
       " 'e9fb04433e9b460ab5ec3bc045640ea6',\n",
       " 'bbe5dc0fb9e44bf0845de20c6109e1fa',\n",
       " '07e32b4f68ff4985958224d23beb6ad2',\n",
       " 'e73d56de3953448b8fec97a3d2518b52',\n",
       " '98f353d9878e431186f0f41bd5c221a8',\n",
       " '70dfdb7c24f04f13b3ccebb46c644361',\n",
       " 'f3cc9eb73db14fb090fe96cd431c58d4',\n",
       " '58c0d833871547069757ba09a24ed1ab',\n",
       " '5a92bd9685264e89ab619aab0356c61e',\n",
       " '9e9e3e0e513447e6ab1e7148ea06dae8',\n",
       " '4862ca1901184506b362922331182f8c',\n",
       " 'fd8286ba038745788a9cd23a9ea9b82f',\n",
       " 'a052dded93bb42c39a5a7e590b5da84b',\n",
       " '1d716cd63fe049faa0183a2a758a7e1e',\n",
       " 'c3f46691b06d49a18e32fa4073320a7d',\n",
       " '5847939d6dd94a5eaefc4374d875ef62',\n",
       " 'd581a44ac8e8431d8f68650688c13ba7',\n",
       " '207730b6c0bb49fea323f4f9509249e6',\n",
       " 'db793e62b87a42f4864e8e5081363c9c',\n",
       " '49bcb16585884650a0d3d44cf21d5192',\n",
       " 'df69d8706afa46629174540cb210f9aa',\n",
       " '22a1b735ec7c4e3f82139f3e360c5e32',\n",
       " '4141801b08254b68b0aba101f4184dd5',\n",
       " '32c3801e6fad451ba79bc6f8d0f84690',\n",
       " '738c336639e94afcb6c357aadfc6fcb0',\n",
       " 'bbbe2569f17b49c4ba9041ab0027d4ee',\n",
       " '15ca72aaec5643149589cee08d6f7803',\n",
       " '44fa83369fe2458ba889c92281316c5d',\n",
       " 'b49bf5e738964f94953ef1a8ca235c2d',\n",
       " 'ecd4e5be0ad94c8fae2b42883f09eb06',\n",
       " '25f250f6eec04df2b30ccba93d41aa0c',\n",
       " '1fe7054e92604f4aaf1a8318e0b3587f',\n",
       " '22347fc4b539429b98af8d1e5baf706c',\n",
       " 'a08bc96606894214b4e82c11fe37b4a4',\n",
       " '967af53ef3044961893a08bff805f8cd',\n",
       " 'aa8009b9638747b8a76df13e2e41c839',\n",
       " '974e0f72bfed45429dc13481ce3ca820',\n",
       " 'b5a24828b09b4ec88fa78babbda5682a',\n",
       " '37924fddc39e46bdb57b91cfca1de4a3',\n",
       " '811a630829bd4ef5b49251239cd6b54a',\n",
       " 'c38448ed071c41d8ac76d2d158725c86',\n",
       " 'a540333899504930bf8082935a1c39d2',\n",
       " '4de76e329f104846973dec3444024b6e',\n",
       " '056d281501884d55bf3f659b18dd3844',\n",
       " '1d3d5381b7df446b8467be2700223a29',\n",
       " 'cf322ac10301478e9b00fc48929430da',\n",
       " 'fbed9e2e4a564fef9b03f2289f7c3620',\n",
       " 'eb2c4b49c9b142cbb8b0a1b374cdf04d',\n",
       " '881030f2cf4942388e799b7cc2961355',\n",
       " '9f6e3dea712c4387af9a2ad4f53b6f90',\n",
       " 'c3afed2168564b3eaa955153d37c419c',\n",
       " '4630480d2c82465980dec9ef568dd7bc',\n",
       " 'd22b7d7aabfe4c67b489501b94c9d9ac',\n",
       " '0d6509f450ea42da9afce41f6ed655f1',\n",
       " '05b6aa55e94f42948b731681903a5baa',\n",
       " 'e57f8255bc7742e0bde25a2d2804c41a',\n",
       " 'fa5e6a634b6a4b4da72f480100dbb515',\n",
       " '3907c9124b5f4ba0bd3d7f9208aa2314',\n",
       " '611bef9c2c984b22ad21e3dbf03bed3e',\n",
       " 'f6eaa4e0bc9547b0ad2bd8fe26a0a2bd',\n",
       " 'a9a85e4bb43f4ba990285822715ad5f8',\n",
       " 'bc16628d7403478e8bac5b31a816ac7f',\n",
       " 'c45930acc173468384dbd3a63d6eb4c4',\n",
       " '2a804ecff2744c72923a65152329cad2',\n",
       " '82b9ef13d3d64b28ae5ca85b053314ab',\n",
       " '0064db8508aa4b128c08b0858769e182',\n",
       " 'a025b37f3ceb405ba125ff3ec02cd9a0',\n",
       " '68ad44ae8bdf40e5aa554957113d6edb',\n",
       " 'd476fa80f7c5455d8121ff8292cd8f98',\n",
       " 'f5222a29d1c74304a7863218caf57c8f',\n",
       " 'e88c496df6f64f839d0ca154d68f9fc6',\n",
       " '28dbedfebbda466885d9a719ca25214c',\n",
       " '2486d3414fc044a1846599ebd4026a94',\n",
       " '484ff838306c43589dbc31b9d8061014',\n",
       " 'cb8ddb3b92c642069a641474c225a0a1',\n",
       " '9d5ac5172f884413b861bb0ed1f648e2',\n",
       " '40ebb580788646898caf2cdd8d82a70e',\n",
       " '8f7244ea0ff44e4c9198ac83c03bfdc6',\n",
       " '99226405fd774f0d91aa7cd8406067b8',\n",
       " '1c4ae4606e624b998582cd52df84097d',\n",
       " '55bd5bcd9a9249b78ef60a743e295795',\n",
       " 'd341204944d84932a6b401474863aac1',\n",
       " '76b260620c384f9294808ef18f2540b3',\n",
       " 'f27858e153cd4635855eef66d1ee4c26',\n",
       " '950bea950b16407d98d52418a22dbe51',\n",
       " '588a26bd24a84008af535e1c2f757364',\n",
       " '40f7495ea3494fdda938d99487ed9472',\n",
       " '1e72cb2a12a24576a69a061b3c268028',\n",
       " '0df3bee5be0e4ddd87a40ae986e44f02',\n",
       " 'fd92c7d3c863403e8a89f489247591c2',\n",
       " 'f8ad0f35d32f4c1fb7a12c276819b123',\n",
       " 'c6919e829b304b91a54f98daa7d00416',\n",
       " 'a2b4cfd3c2d24a57ae06aead3a553b1f',\n",
       " 'ec04ce00e729494e85e0d15ae1feeb15',\n",
       " '6915ca0a24f24813848b9de560faab71',\n",
       " 'd5911f37d0584c1183c8c41d101e4080',\n",
       " 'dc5594b9e9a849de924ab3e855e3fef0',\n",
       " '6fb58fb298f84f00b740e2e59e11b20f',\n",
       " '9a6274e0d7364999ab0038d4b331fddb',\n",
       " '1c828236111d46a0a640f00f707e43e3',\n",
       " '5b1ed9450335434eb80c0366a8b00611',\n",
       " 'a609031658004d74a65cea4b41463dfc',\n",
       " '915d6756e7e74fa6835b497c2e96db24',\n",
       " 'fedcb75aa6394227bfa31d842e34286c',\n",
       " 'ff22abe4fff8463082dedd284fc88b63',\n",
       " '69bcdf64d677484cb9389c265d55b390',\n",
       " '3b15f33c695d481b8df2602cce4792d0',\n",
       " 'e46df0788c164c4591084e604b523fee',\n",
       " '8fd05c19aec04e8a9cfcc80d5edb3b27',\n",
       " 'e2ffd107d80b4233a84f3d797356aa5b',\n",
       " '11b9ebbb06ec427cbaa86c92d7e13090',\n",
       " '66c5b83ba7874d8a9dc9dbe25a7ae635',\n",
       " '8ae066ddc0d040ada666a14f5b73f06f',\n",
       " 'd715642e3081432cb5f2867601d0747e',\n",
       " 'b4fb919ad84f4949b1de8df691ad1866',\n",
       " 'f107666992e0420eab0358aa95599b77',\n",
       " 'bebf359036b24a108e1a9b800e2be5be',\n",
       " '732780f0422d4f75a197185b0402b95c',\n",
       " 'd5495f5834dd443590948ac6ff1b8e54',\n",
       " '83eee8e859b34c7cb862b1213a2ba316',\n",
       " '5907e28b1ea941aca99d7e591b72641a',\n",
       " 'fd9cb0d252d74597854d7688bc60e268',\n",
       " '188558e8d1e04b3c9eb631336671ddf3',\n",
       " '90e4142aebb24ca2bc317015d16f8a43',\n",
       " '60e8a1b6994943f38c2b58ae3856f2d2',\n",
       " '4e1a3fcfabc949579861211e0a4594fd',\n",
       " '0c0678bb1bff466fba8ee5d6fd982b38',\n",
       " '7c6663bb552b4a6995cc90f51c9c5991',\n",
       " '7459baa916e0409381001a9e4bc62cbf',\n",
       " 'e13bc38508b64b74a056d8d860bf42a4',\n",
       " '4352e5229c1d42dca5002a72275a42b4',\n",
       " '2419b328ea2340b892a624c459c80b6f',\n",
       " 'cec4620a9c754c49acd3178785ceead7',\n",
       " '6ab263d91a2641f18dfb917b55c30a63',\n",
       " '6014e0d1984f49349519eae44825620d',\n",
       " '4d3c3788d34f4b45bd23da894af7a0ce',\n",
       " '13d29b3b299d4e14920a7317a7cc0e57',\n",
       " '674ad9e48ebb447792f76c95c51b3a1c',\n",
       " 'caf96374ba374036ad6b94526a7b6b5d',\n",
       " '2a01cd49cac44c30ac1a66f0151e8afb',\n",
       " '69e748185c44436da8eb37205fdaf662',\n",
       " 'bd9f370dfff74c919a4efddc188dd80f',\n",
       " 'fddf0a6b720948d6afeb9b6d3252b6e7',\n",
       " '4eee011904354c59aeea559746a550ad',\n",
       " 'b7234506480a4a259009fee911d8379c',\n",
       " '5e334eae9a02421780fa5189970c35dc',\n",
       " '6343fa87194f46ac965038bbdd575494',\n",
       " '21bf9a97c5244bfaa92a67e9475511c0',\n",
       " 'bf9437b148ad4b5f94a9876e5dc257ca',\n",
       " '40a783b55015438b9cb0435ff3a42581',\n",
       " '6fa64633c1884de38ba4a4f10e0c6843',\n",
       " 'dd9d98456b704a5996dcedde8246af17',\n",
       " 'afc00c8ed05443a388a2e449fc973233',\n",
       " 'cb1ace811bb04d97aa36a5aecb915288',\n",
       " 'ed0fc42624634657bafcb1e07a560469',\n",
       " 'f6d04c12809841cf89ac881a604c442b',\n",
       " '0980f9dfe06c414ba19570ca2d4743b9',\n",
       " '057297f56475490ab81fc7ab3aa081ac',\n",
       " 'd04c6c7321284d2594d3ac7201c6e8af',\n",
       " '6f046917beb54d70809683fd1114257c',\n",
       " '0fbdf63d47884a2a904b790cbeb6e1be',\n",
       " 'bf18870135354158b2ad86535b1feefd',\n",
       " '465da503f9cf42a5a7eed494ab995d91',\n",
       " '7dc1261f76974fae9c7d744a93f7285b',\n",
       " '39a2255fdbd743149c3df6634f704427',\n",
       " '0c8c937d84034958b40ea2dea7c3c698',\n",
       " 'b51c1a6a5bcd46c0ae023f644ebcd334',\n",
       " '008a20e399ee41138d44666369f6cea3',\n",
       " 'ac1c88c1587440d7889edb429caf6536',\n",
       " 'e23c02efb4f044618ecd5f2b31196138',\n",
       " '0ff8b16ccc024e60947aae530b2797c1',\n",
       " '8c6f94f4c3f74cc392d6f7f09153baba',\n",
       " '8a5d8b3b8fd0401abd7b74e190f24efb',\n",
       " '67ece6b70038499f8467d8dc423179dd',\n",
       " '91c6f254d55f483d840ca8108a282695',\n",
       " '85a68f500d004c9ab97d0745ed8d317a',\n",
       " '7adb8504e815470ea620b6d2bf859472',\n",
       " '9765c90951ce4ed691b1ca58451f2d0e',\n",
       " '96d5e69f8c20440a8d3c8fe370752269',\n",
       " '8cebc9fdf0784e4b9c85f7a10acfb786',\n",
       " '192d7279d74d4a769a710c797e25e0aa',\n",
       " '803ceec2259c4c52a801cca12901531b',\n",
       " '3f95bf45756549d6935fa2268a7773b9',\n",
       " '5944e74c30cd47f9b84914a8282d9f26',\n",
       " 'c8b10a4d94624fb38c87d9c122344eb6',\n",
       " '065711f45a4f4ee1ba00d9427a1de5bb',\n",
       " 'd2fe1561819e453fa09678d376692753',\n",
       " '96f033827725494883fd4378fac2505d',\n",
       " '878436428aec44329f7e2c0aefec84d3',\n",
       " '4370bd07aa2b4a86a186e3e224353ead',\n",
       " 'f463e4f9bfc446a4bca4c3473d2d0781',\n",
       " '7f2380891d1241a68ed2c417635cdfe3',\n",
       " 'aa3a4df5917645dab15ece6214a1e666',\n",
       " 'd3b2bf6f33df40469378712930835661',\n",
       " '6ddae84e22d44e9abdb1fb87bff117a4',\n",
       " '34e0ddfe599a48338189f62beb2f7849',\n",
       " 'e8efcb846c0b4b01bec0909e65a8c31f',\n",
       " 'fd724076d1e144aaac5e9a608d3a3fd2',\n",
       " '8d4a74439abc42c483a5852db7c9132a',\n",
       " 'b9ff5f35a35f4fcba8a4604c99de214f',\n",
       " '128769184b844fc584148931dcb96171',\n",
       " '3ff3ad13f2c443e78d7efa34a8829678',\n",
       " 'ede14de398654f66b373a82e6dbf5ad4',\n",
       " 'f02fb7fe4e8744b384371f40eba233d7',\n",
       " '223bcb8b36954e19b46f4d71595e471a',\n",
       " '006e762d9e2a4875bc16061c72cf52b8',\n",
       " 'dd0f43639cbc4c1a993de844a41d80b8',\n",
       " 'adf09690f8824d4083f4873fa689dd9c',\n",
       " 'c67ccffc3d6f463db7c0a9b342e17d4a',\n",
       " '5f478b0b76ed447aa76a0e0fc69b498f',\n",
       " '1f9552f8d35a4e12a1b6893aeae05efe',\n",
       " '8bd6655f8a4143698490a8cbdc727e7c',\n",
       " '78989075f05c447c9bcbf99509bc23d1',\n",
       " 'cd0d48ea044142fdacba7974e2574313',\n",
       " '80247fd7e55542e2b097adda5872ac88',\n",
       " '466f74f92c844c4d901beca75bccc7c6',\n",
       " '025a967add7f45829e77be104b16cf2b']"
      ]
     },
     "execution_count": 9,
     "metadata": {},
     "output_type": "execute_result"
    }
   ],
   "source": [
    "print(\"Adding texts to Vector Store\")\n",
    "texts, metadatas = zip(*((doc.page_content, doc.metadata) for doc in docs))\n",
    "vectorstore.add_texts(texts=texts, metadatas=metadatas)"
   ]
  },
  {
   "cell_type": "markdown",
   "metadata": {},
   "source": [
    "## Query"
   ]
  },
  {
   "cell_type": "markdown",
   "metadata": {},
   "source": [
    "#### Define the Retriever\n",
    "by setting \"k\" in kwargs, we can control how many results are retrieved from the vector store and passed into the Flare chain.\n",
    "\n",
    "- Ideally, we should not provide a \"K\", but the only way I can get this to work is limit the K above to a single result in order to not breach the token limit of 4096"
   ]
  },
  {
   "cell_type": "code",
   "execution_count": 10,
   "metadata": {},
   "outputs": [],
   "source": [
    "import sys\n",
    "from langchain.chains import FlareChain\n",
    "from langchain.chat_models import ChatOpenAI\n",
    "\n",
    "retriever = vectorstore.as_retriever(search_kwargs={\"k\": 1})\n",
    "#retriever = vectorstore.as_retriever()"
   ]
  },
  {
   "cell_type": "markdown",
   "metadata": {},
   "source": [
    "#### Define FLARE chain\n",
    "\n",
    "Appears that the model attribute is ignored as an error is thrown if more than 4096 tokens are supplied.\n",
    "\n",
    "- the only way I can get this to work is to either:\n",
    "\n",
    "    - limit the K above to a single result in order to not breach the token limit. But that means we are not retreiving enough context from the data.\n",
    "    - reduce the chunk size to create smaller chunks and thus reduce the number of tokens passed to the LLM."
   ]
  },
  {
   "cell_type": "code",
   "execution_count": 11,
   "metadata": {},
   "outputs": [
    {
     "name": "stdout",
     "output_type": "stream",
     "text": [
      "QUERY: List the orders from the case AMALGAMATED vs MARSDEN\n",
      "\n",
      "\n",
      "FLARE RESULT:\n",
      "     The orders from the case Amalgamated Television Services v Marsden Matter No 40005/97 [1998] NSWSC 4 (4 February 1998) were that the appeal was allowed in part. \n",
      "\n",
      "\n"
     ]
    }
   ],
   "source": [
    "flare = FlareChain.from_llm(\n",
    "    ChatOpenAI(temperature=0, model=\"gpt-3.5-turbo-16k\"),\n",
    "    retriever=retriever,\n",
    "    max_generation_len=164,\n",
    "    min_prob=0.3,\n",
    ")\n",
    "\n",
    "# Define your query\n",
    "query = \"List the orders from the case AMALGAMATED vs MARSDEN\"\n",
    "\n",
    "flare_result = flare.run(query)\n",
    "\n",
    "print(f\"QUERY: {query}\\n\\n\")\n",
    "print(f\"FLARE RESULT:\\n    {flare_result}\\n\\n\")"
   ]
  },
  {
   "cell_type": "markdown",
   "metadata": {},
   "source": [
    "#### Use OpenAI LLM for comparison of not using FLARE"
   ]
  },
  {
   "cell_type": "code",
   "execution_count": 12,
   "metadata": {},
   "outputs": [
    {
     "name": "stdout",
     "output_type": "stream",
     "text": [
      "LLM RESULT:\n",
      "    \n",
      "\n",
      "1. Motion to Dismiss\n",
      "2. Motion for Summary Judgment\n",
      "3. Motion for Partial Summary Judgment\n",
      "4. Motion to Compel Discovery\n",
      "5. Motion to Strike \n",
      "6. Motion to Change Venue\n",
      "7. Motion for Judgment on the Pleadings\n",
      "8. Motion for Protective Order\n",
      "9. Motion for Leave to File an Amended Complaint\n",
      "\n",
      "\n"
     ]
    }
   ],
   "source": [
    "from langchain.llms import OpenAI\n",
    "\n",
    "llm = OpenAI()\n",
    "llm_result = llm(query)\n",
    "print(f\"LLM RESULT:\\n    {llm_result}\\n\\n\")"
   ]
  },
  {
   "cell_type": "markdown",
   "metadata": {},
   "source": []
  }
 ],
 "metadata": {
  "kernelspec": {
   "display_name": "env_vector",
   "language": "python",
   "name": "python3"
  },
  "language_info": {
   "codemirror_mode": {
    "name": "ipython",
    "version": 3
   },
   "file_extension": ".py",
   "mimetype": "text/x-python",
   "name": "python",
   "nbconvert_exporter": "python",
   "pygments_lexer": "ipython3",
   "version": "3.9.18"
  },
  "orig_nbformat": 4
 },
 "nbformat": 4,
 "nbformat_minor": 2
}

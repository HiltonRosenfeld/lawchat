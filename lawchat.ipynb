{
 "cells": [
  {
   "cell_type": "markdown",
   "metadata": {},
   "source": [
    "# LawChat\n",
    "\n",
    "**Use natural language to query a library of previosuly cited legal cases**\n",
    "\n",
    "We make use of LangChain for:\n",
    "\n",
    "- Document Loaders: WebBaseLoader\n",
    "- Text Splitter: TokenTextSplitter\n",
    "- Vector Store: Cassandra\n",
    "- Models: OpenAIEmbeddings and ChatOpenAI\n",
    "- Chain: FLARE\n",
    "\n",
    "We will be using the Australasian Legal Information Institute as our source legislation and court judgments (\"case law\")."
   ]
  },
  {
   "cell_type": "markdown",
   "metadata": {},
   "source": [
    "## Configuration"
   ]
  },
  {
   "cell_type": "markdown",
   "metadata": {},
   "source": [
    "**Create your `.env1` file**\n",
    "\n",
    "1. Copy the .env.example file to `.env`\n",
    "2. Specify your Astra and openAI parameters."
   ]
  },
  {
   "cell_type": "code",
   "execution_count": 1,
   "metadata": {},
   "outputs": [],
   "source": [
    "import os\n",
    "from dotenv import load_dotenv\n",
    "\n",
    "ASTRA_DB_KEYSPACE = os.environ['ASTRA_DB_KEYSPACE']\n",
    "ASTRA_DB_SECURE_BUNDLE_PATH = os.environ['ASTRA_DB_SECURE_BUNDLE_PATH']\n",
    "ASTRA_DB_APPLICATION_TOKEN = os.environ['ASTRA_DB_APPLICATION_TOKEN']\n",
    "OPENAI_API_KEY = os.environ['OPENAI_API_KEY']"
   ]
  },
  {
   "cell_type": "markdown",
   "metadata": {},
   "source": [
    "## Astra DB Connectivity"
   ]
  },
  {
   "cell_type": "code",
   "execution_count": 2,
   "metadata": {},
   "outputs": [],
   "source": [
    "from cassandra.cluster import Cluster\n",
    "from cassandra.auth import PlainTextAuthProvider\n",
    "from cassandra.cqlengine import connection\n",
    "\n",
    "\n",
    "# load settings and keys\n",
    "#settings = Settings\n",
    "\n",
    "\n",
    "def getCluster():\n",
    "    \"\"\"\n",
    "    Create a Cluster instance to connect to Astra DB.\n",
    "    Uses the secure-connect-bundle and the connection secrets.\n",
    "    \"\"\"\n",
    "    cloud_config = {\"secure_connect_bundle\": ASTRA_DB_SECURE_BUNDLE_PATH}\n",
    "    auth_provider = PlainTextAuthProvider(\"token\", ASTRA_DB_APPLICATION_TOKEN)\n",
    "    return Cluster(cloud=cloud_config, auth_provider=auth_provider)\n",
    "\n",
    "\n",
    "def get_astra():\n",
    "    \"\"\"\n",
    "    This function is used by LangChain Vectorstore.\n",
    "    \"\"\"\n",
    "    cluster = getCluster()\n",
    "    astraSession = cluster.connect()\n",
    "    return astraSession, ASTRA_DB_KEYSPACE\n",
    "\n",
    "\n",
    "def initSession():\n",
    "    \"\"\"\n",
    "    Create the DB session and return it to the caller.\n",
    "    Most important, the session is also set as default and made available\n",
    "    to the object mapper through global settings. I.e., no need to actually\n",
    "    do anything with the return value of this function.\n",
    "    \"\"\"\n",
    "    cluster = getCluster()\n",
    "    session = cluster.connect()\n",
    "    session.set_keyspace(\"lawchat\")\n",
    "    connection.register_connection(\"my-astra-session\", session=session)\n",
    "    connection.set_default_connection(\"my-astra-session\")\n",
    "    return connection"
   ]
  },
  {
   "cell_type": "markdown",
   "metadata": {},
   "source": [
    "#### Define the Vector Store"
   ]
  },
  {
   "cell_type": "code",
   "execution_count": 7,
   "metadata": {},
   "outputs": [
    {
     "name": "stdout",
     "output_type": "stream",
     "text": [
      "Setup Vector Store\n"
     ]
    }
   ],
   "source": [
    "from langchain.vectorstores import Cassandra\n",
    "from langchain.embeddings.openai import OpenAIEmbeddings\n",
    "\n",
    "# define Embedding model\n",
    "embeddings = OpenAIEmbeddings()\n",
    "\n",
    "# Set up the vector store\n",
    "print(\"Setup Vector Store\")\n",
    "session, keyspace = get_astra()\n",
    "vectorstore = Cassandra(\n",
    "    embedding=embeddings,\n",
    "    session=session,\n",
    "    keyspace=keyspace,\n",
    "    table_name=\"nswsc\",\n",
    ")"
   ]
  },
  {
   "cell_type": "markdown",
   "metadata": {},
   "source": [
    "## Load library data\n",
    "\n",
    "We are using data from the Australasian Legal Information Institute. AustLII maintains collections of primary materials: legislation and court judgments (\"case law\"). \n",
    "\n",
    "For this project, we are sourcing case law from the Supreme Court of New South Wales."
   ]
  },
  {
   "cell_type": "markdown",
   "metadata": {},
   "source": [
    "#### Utility functions"
   ]
  },
  {
   "cell_type": "code",
   "execution_count": 8,
   "metadata": {},
   "outputs": [],
   "source": [
    "import re\n",
    "\n",
    "\"\"\"\n",
    "Function to clean text from web pages\n",
    "\"\"\"\n",
    "def clean_text(text: str):\n",
    "    # Normalize line breaks to \\n\\n (two new lines)\n",
    "    text = text.replace(\"\\r\\n\", \"\\n\\n\")\n",
    "    text = text.replace(\"\\r\", \"\\n\\n\")\n",
    "\n",
    "    # Replace two or more spaces with a single space\n",
    "    text = re.sub(\" {2,}\", \" \", text)\n",
    "\n",
    "    # Remove leading spaces before removing trailing spaces\n",
    "    text = re.sub(\"^[ \\t]+\", \"\", text, flags=re.MULTILINE)\n",
    "\n",
    "    # Remove trailing spaces before removing empty lines\n",
    "    text = re.sub(\"[ \\t]+$\", \"\", text, flags=re.MULTILINE)\n",
    "\n",
    "    # Remove empty lines\n",
    "    text = re.sub(\"^\\s+\", \"\", text, flags=re.MULTILINE)\n",
    "\n",
    "    return text\n"
   ]
  },
  {
   "cell_type": "code",
   "execution_count": 9,
   "metadata": {},
   "outputs": [],
   "source": [
    "import tiktoken\n",
    "\n",
    "\"\"\"\n",
    "Function to calculate the number of tokens in a text string.\n",
    "\"\"\"\n",
    "\n",
    "encoding = tiktoken.get_encoding(\"cl100k_base\")\n",
    "\n",
    "def num_tokens_from_string(string: str) -> int:\n",
    "    num_tokens = len(encoding.encode(string))\n",
    "    return num_tokens"
   ]
  },
  {
   "cell_type": "markdown",
   "metadata": {},
   "source": [
    "#### Get data files\n",
    "\n",
    "We load a number of HTML pages using the LangChain WebBaseLoader. Each of those pages contains lots of superfluous content so we extract only the relevant article context."
   ]
  },
  {
   "cell_type": "code",
   "execution_count": 10,
   "metadata": {},
   "outputs": [
    {
     "name": "stdout",
     "output_type": "stream",
     "text": [
      "Loading Data\n",
      "Cleaning Data\n",
      "Number of documents: 5\n",
      "Number of tokens: 33772\n"
     ]
    }
   ],
   "source": [
    "from langchain.document_loaders import WebBaseLoader\n",
    "\n",
    "urls = [\n",
    "    \"https://www.austlii.edu.au/cgi-bin/viewdoc/au/cases/nsw/NSWSC/1998/423.html\",\n",
    "    \"https://www8.austlii.edu.au/cgi-bin/viewdoc/au/cases/nsw/NSWSC/2002/949.html\",\n",
    "    \"https://www8.austlii.edu.au/cgi-bin/viewdoc/au/cases/nsw/NSWSC/1998/4.html\",\n",
    "    \"https://www8.austlii.edu.au/cgi-bin/viewdoc/au/cases/nsw/NSWSC/2005/1181.html\",\n",
    "    \"https://www8.austlii.edu.au/cgi-bin/viewdoc/au/cases/nsw/NSWSC/1998/483.html\"\n",
    "    ]\n",
    "headers = {\n",
    "    \"User-Agent\": \"Mozilla/5.0 (Windows NT 10.0; Win64; x64) AppleWebKit/537.36 (KHTML, like Gecko) Chrome/102.0.0.0 Safari/537.36\"\n",
    "}\n",
    "\n",
    "print(\"Loading Data\")\n",
    "url_loaders = WebBaseLoader(urls, header_template=headers)\n",
    "data = url_loaders.load()\n",
    "\n",
    "\"\"\"\n",
    "Extract only the actual Article content from the web page and clean\n",
    "\"\"\"\n",
    "print(\"Cleaning Data\")\n",
    "for i, d in enumerate(data):\n",
    "    d.page_content = \"\"\n",
    "    source = d.metadata['source']\n",
    "    thedoc = WebBaseLoader(source, header_template=headers).scrape()\n",
    "    # extract only the Article content from the web page\n",
    "    td = thedoc.find(\"article\", {\"class\": \"the-document\"}).text\n",
    "    d.page_content = clean_text(td)\n",
    "    data[i] = d\n",
    "\n",
    "print (f\"Number of documents: {len(urls)}\")\n",
    "print (f\"Number of tokens: {num_tokens_from_string(data[0].page_content)}\")\n"
   ]
  },
  {
   "cell_type": "markdown",
   "metadata": {},
   "source": [
    "#### Split the data into chunks"
   ]
  },
  {
   "cell_type": "code",
   "execution_count": 12,
   "metadata": {},
   "outputs": [
    {
     "name": "stdout",
     "output_type": "stream",
     "text": [
      "Splitting Data\n",
      "Number of chunks: 226\n"
     ]
    }
   ],
   "source": [
    "from langchain.text_splitter import TokenTextSplitter\n",
    "\n",
    "CHUNK_SIZE = 500\n",
    "\n",
    "# Chunk the data\n",
    "print(\"Splitting Data\")\n",
    "text_splitter = TokenTextSplitter(chunk_size=CHUNK_SIZE, chunk_overlap=50)\n",
    "docs = text_splitter.split_documents(data)\n",
    "print(f\"Number of chunks: {len(docs)}\")"
   ]
  },
  {
   "cell_type": "markdown",
   "metadata": {},
   "source": [
    "#### Store data and embeddings in Astra DB"
   ]
  },
  {
   "cell_type": "code",
   "execution_count": 13,
   "metadata": {},
   "outputs": [
    {
     "name": "stdout",
     "output_type": "stream",
     "text": [
      "Adding texts to Vector Store\n"
     ]
    },
    {
     "data": {
      "text/plain": [
       "['d93f992af1324a1f9c3eb75b35edf6cb',\n",
       " 'ecf50703bc1e43549c83c8b19e53af30',\n",
       " '18172ccd31c1419fbfea182d5db029fe',\n",
       " '0894067ba4c74d73808341f1b8999920',\n",
       " 'a7ce0b0981ad458b9bdd8ec9ed2207b5',\n",
       " '33ac26f6f84c4492915641779b0808b1',\n",
       " '9364f696959e4d6689402ef4f96b21d2',\n",
       " '16d84c00e31c4cb9ad19e3a89ee99b4d',\n",
       " 'de52c686a3ab40e0bb196075903af171',\n",
       " 'c62bcd6256354df580076792d3cf8482',\n",
       " '8f1fd76faa424ee9b7bdc29947c1732a',\n",
       " '3e22cf925f094428acbd2cc15a88b2f8',\n",
       " '9f98c9e6a97449ce9c158b17b4c26219',\n",
       " '13f5bdba0a504fe1bc3660d8567ecdca',\n",
       " '41681f9491074372afb9e095c13341df',\n",
       " '517fd6d020224311a5a1e74022d8b34d',\n",
       " '8fbd116e2dbe4fa5a5c36b132276f41c',\n",
       " '184cd8112eb7415d8f7ed51133853154',\n",
       " '1241c9310c824c459c08ce22f661b7cb',\n",
       " '8f9c1ba225ba46d3a6b1b7f1a33ac41d',\n",
       " 'ed5ae1a9f20c46dbaf960da8ea8a048c',\n",
       " '541421c166854bbc9b81d4067507a76b',\n",
       " '7e51186361094256982493a7c8f0183d',\n",
       " '089e5a630abc413bb08bc8378136c43c',\n",
       " '08d16b326f164a6480b71c4308603541',\n",
       " '46c9c391924a4e009379ab8856625d44',\n",
       " '819893904c3b4604a614148540af53d9',\n",
       " '568d7c35ea924bdcbf833416bfe897f0',\n",
       " '3da32bdcf54844ac875b0a317c293183',\n",
       " '3aa5f08e479141c7b7c1ca0e1f641f83',\n",
       " '63f5dd638c2b4157b8313f38b1ba7a3d',\n",
       " '71dd71134e474b40b6beefc2f84792bd',\n",
       " 'cbbe11a5a9b34878a960b30025a958a4',\n",
       " 'a795fad8d11340428fcc79bad0a477e0',\n",
       " '2c2d5d64ed384576a8d392ac892279a7',\n",
       " 'c6e2c01b1e48444d9df4ec4bf160ffb0',\n",
       " '30764bf6f567477dbb7aa59a20d15316',\n",
       " 'c87e4aa850234b458254be419be1d08f',\n",
       " '306051f40cc748fd96952dd53082735c',\n",
       " '144cd5fbac274e3dbbbe85aad66dd364',\n",
       " 'c095ae59192343cc9b7205e512eed55e',\n",
       " '5fb0fb3bf55b4a9f861137489943a018',\n",
       " '48d1f356a842496c8bb3c12cab6a45c7',\n",
       " '13fe4d6d33384a0b96c9506be70fa649',\n",
       " '6385e0b94e744f84958fffe0de08fbbc',\n",
       " '1c3f2a5fcb174126b67ed83e3539670e',\n",
       " '9795254290db4974b6a0180426b83cbb',\n",
       " 'a0f4fc7180474c22988bbf59637a176c',\n",
       " '5e4af197897a44f0b0003416ddc774ce',\n",
       " '44a5e36168e74337bcc357a2bd83ceba',\n",
       " '67ecb71c7ace425582b47e5fccfae9b2',\n",
       " 'a4e0d4a3f549481cbbd005d8c23b436c',\n",
       " '88613d72e9954a52b9d77992b205c7d6',\n",
       " '6deb761482e64da0b4e9be5bf98c22c8',\n",
       " 'fc40cd68fa36428787ba547c0756609a',\n",
       " '2396342182c042f6a22a438a4001560a',\n",
       " 'a336d83423ab4a26bff800dfbf2acac9',\n",
       " '616ff8400086450ab06f91871bc54a70',\n",
       " 'db2509f40e8b46f8856e7af4cc62f11e',\n",
       " 'b57ec6de70b14f46bebdd968be2cae4b',\n",
       " '68841e16382244e98ea471f5e76f9daf',\n",
       " '5470c5333c5a41c98a5401c46f7fc746',\n",
       " '9b3a492f5fa64c6c9a81338bf3b7a71d',\n",
       " '18d6136b58234ae0aae350fafbf9fada',\n",
       " '0f1dfdb376464e31b5911f5c0908160b',\n",
       " 'e8097039b2074426a5e7de59c41a0710',\n",
       " 'b28ce2e3e98c4aac9bc77dbb79d4b52e',\n",
       " '3840e4c658684b5296bbea2a05b7f6a7',\n",
       " '8f90d84497034e1cb4e11fe2dc556a35',\n",
       " 'd0c90f87fcbe4765bf83c51847b18ec1',\n",
       " 'cf102a068a3b4dfeadb2afd39b03fbce',\n",
       " '23afda5d95204fea8a41aad1bcb04660',\n",
       " '06eba50023f94709857fe49fe2ca222e',\n",
       " 'cf18380f55644735b68df87b7d5cdef0',\n",
       " '59ceb53c022c471199b1e62a02de87e7',\n",
       " '6266b54951064c4895598c34d43260fc',\n",
       " '4d68efa14abf46f2b7defff64e5d453b',\n",
       " 'b7c0df64816640c58f2acfaa82032fba',\n",
       " '01125fc0e6d74cf5978b9a5b748e3694',\n",
       " '4a7af4c01a9647519dd324986d36faa2',\n",
       " 'd4fcd6a63cba4658b3721bea7eaf613a',\n",
       " '3b9319bb14714782a73a95872185b553',\n",
       " 'd3868f72f22243bcb0fb6e464f2be54a',\n",
       " '174bf65ca4b543fbbf6c191cdd6cc5c7',\n",
       " '287ecc0c9d50483995fee308c148d62f',\n",
       " '9161576f072241eea134d5b47e483a12',\n",
       " 'df3c796df593428ea6f473028a5bc40a',\n",
       " '1800d44562354148b4a1ec1a18a33499',\n",
       " '95fda61f9fd84cd9a402b3b8de2a7b4d',\n",
       " 'ef755454a5a447bcbae22adfa79dde35',\n",
       " '9b3baa11d55d45d9b594e0c6b68273a0',\n",
       " '4fbddf4047784592a5c00e0d89a60c20',\n",
       " 'e058c59435be4e1f85f08f44768a29b4',\n",
       " '8cc9c7188a9c4828a4006db98b47fcf6',\n",
       " 'afb3ab0e392c4a568c74a02a5540fb5f',\n",
       " '66fe2abb5dc34ae7ad67c2aff2462a55',\n",
       " 'f328cebb597b4668b482ebd21b3aa33d',\n",
       " 'bc2ed2e6dd544d7f9d59082c01cb5488',\n",
       " '37272b7c7fc3418897d30b1a3f31c538',\n",
       " '189175f66bc1452c8e2da7f7096bf16d',\n",
       " '0be4f7fae6e143cfa6c77e211e54cb5d',\n",
       " 'f6fc0289299a45c6a8d2e95c89437563',\n",
       " 'e708a82f3896438b8f530127a2e671ff',\n",
       " '297b2c04eeee486ea3782a97373ea428',\n",
       " '36e3146389df44bdb5488c3435837e2a',\n",
       " 'cf4bfb46e34c4edc8794806ee6340bc4',\n",
       " 'dd920b972dbd4f9f9c49fea9fa6a8117',\n",
       " 'cf51c2e687a44263bdca1189605195e9',\n",
       " 'b0194db45ca2440ebd9bdc6fd4a7c63e',\n",
       " '3d6a8651ebf1429baf6c5bd5b495d5d9',\n",
       " '8535d1699dd04ea3a2e412ef5c6646c8',\n",
       " 'cd2db72d3bf64b2489d000f3137e0d18',\n",
       " 'c7cb21c0e893465d9ad151e29161b1b8',\n",
       " '633000ba617248bd8546d3bbb9674c3b',\n",
       " '018776c91382430dae08d85106ecc649',\n",
       " 'a61857aa383b4d76bd8e8994b34a98dd',\n",
       " 'f022f018b10a4d43b33cb3281ccb84c8',\n",
       " '8ad10109b67b4c41b06f2e1963f78f46',\n",
       " 'c5186241e5634af6963f703cc4f94c83',\n",
       " '415768a5f31f4b768a9f2a3d241eeda6',\n",
       " 'fde240e2c42d4fe0ad95ac74356c05be',\n",
       " '7ff6fc3e2cc446be9890ab561016e229',\n",
       " 'a77f5b0a1b3141338d394eff17b53678',\n",
       " 'eaf72f5f5d904859977bc6353e1b6dd9',\n",
       " '00e8f7a9b740450c98de46bb28fcf335',\n",
       " '3581f594c2cb4f21b0483b6df36a421c',\n",
       " '56c5d96d3f014af09680bf81637529b4',\n",
       " 'a234535ab55044cab4855e23dc31fa07',\n",
       " 'ff4c5d75e45f472ab9965f80381ed9e5',\n",
       " 'bbc65868abf6496a95dbd91e08beca79',\n",
       " '637c287c1e35455d8ec16ab641ea23a3',\n",
       " '53807ddff9924e9b92679d93cf37a8dd',\n",
       " '51f22e3e9dfa4eb2a8af4137da03ca9e',\n",
       " '3d2f1a0d722442b8aa75541eee73a227',\n",
       " '94d363b8f502446c8be40bde1b3a8436',\n",
       " 'c92db290057640b7b2b55b1dec1e8cd0',\n",
       " 'da1831d9e95a4c8a91d30316a347aeac',\n",
       " '524f0aa75c4641fdb58a3a5cad35015b',\n",
       " '41fef5ecd57a4b8aa8da31bc4d107b64',\n",
       " 'eef38438a74f467d9714f7ba8b9d1390',\n",
       " '48280e7851ad4b5d9eb082437bec0c20',\n",
       " 'fbeb51cf4b884ae7bf17cc20ce22fb97',\n",
       " '1d5dedf937cd459fbda2156a4897b2b4',\n",
       " '7f8fcf510b0744bf9f86f2cebd0ed705',\n",
       " 'dda1adf36e2b4deca8c655b1bd33c7bc',\n",
       " '87f23b539c56407dbc7b69de933a0494',\n",
       " 'c358bc11dd7545daa6c064045f53a283',\n",
       " '7edd57465966466781ad2dff1ecc7192',\n",
       " '406c6f34a613439ea46b936550fe4f0d',\n",
       " '1028671c681e4f01ba29f0770d110736',\n",
       " 'ea36a766e59744948659239bc29960e9',\n",
       " '54b20795364e41d89013a3e0daceae94',\n",
       " '34718843b2ec40488d84daa18b01af9a',\n",
       " 'f99d0a9bd54d4f169e2439be31340845',\n",
       " '9201583eb4ea4c9da7afd9fedf0ca26e',\n",
       " 'bb2de7397ec94758bad82d638f67fa44',\n",
       " '16d96aad83e947ffb031814d439a54ce',\n",
       " '2c4d4991d6124a109a35407937cacb8b',\n",
       " '443ebab670884224b5140a29ffede337',\n",
       " 'a3bee86687c94bd880f1e321cd0e845b',\n",
       " '6f364d49ed414a2f83e2a1c82e083fe0',\n",
       " '5ee500fff5004a13ab6d69afeedf5405',\n",
       " '8f5fcd2728e04d83af3ea82ad706b54b',\n",
       " '3a08f8356bdd491a9794e13e642bb7ef',\n",
       " 'e0b7652762b14a9ebe149211ab4a9bdb',\n",
       " '8ea98beb16da464c8e0144d7c1ef7411',\n",
       " '055444122fb6463a8f0f5a1ff888ff49',\n",
       " '10c932304a7d49b49870a0553deb5457',\n",
       " 'b26691cd9a00461a8c2c27c0bb323653',\n",
       " '06ebbfb9a05c4e059507d04ea606df99',\n",
       " '694bca7050ee42d58b0c4dd3709c99a1',\n",
       " 'a47bef68f999415f8941cf2edfd31163',\n",
       " 'e958181ce7dc442a822dfcc063221a69',\n",
       " '2847ea1dad8948fb89b32ec759bc521a',\n",
       " '2387d93fa24b4955bd5f5c6c8f2c5a87',\n",
       " '7cd7f4a7a41640f98bb0c8501cbc33b7',\n",
       " 'd38a0f571434474c8dc4948ef65328ab',\n",
       " '9e03eab53779445da3da0a3c2f622436',\n",
       " '8a10cc6f2deb4682a0e5809961744449',\n",
       " '27da27b8ff33435f8170cd721bb699ff',\n",
       " '8c4d67bfae74426db2f39b420dd34700',\n",
       " '5a109ec6a2bb44a594c8a3dd05fe2f40',\n",
       " 'c3428b0cf9c344058ee7b01bc580b02a',\n",
       " 'bcdea311c9e04a5c9d07f371f82efad4',\n",
       " 'c81ac21182984a4496994efab13eae39',\n",
       " '45dc8ab38860419bab2ce829d056e83c',\n",
       " '602e45fc0f484a78a339e0bf72d2e379',\n",
       " '4f4129bede9547cfba5272000c022bb2',\n",
       " '19b33e7918984871bf97d4adf0f9f4ce',\n",
       " '58bd5781537c46c1bf8800ce515d7724',\n",
       " '3a38fa7288784635bbbe7f012724baa6',\n",
       " '83d70f2dd9754ef2aaf50da897260b51',\n",
       " '85ef5a6f9ba6444c8953870b1033f390',\n",
       " 'eb8af94ee91b433fbd867dd3d1e28a71',\n",
       " '182de280a1db4f20a98baaf50fdd550d',\n",
       " 'f1b0936d7d644ab4a3c5ba8d595cc910',\n",
       " 'fcba33ceebfb48508a7e59bd147b01ac',\n",
       " '7f4942bce9f0401e8d9a0019a710f3f4',\n",
       " 'df5b27b09b3341ec84e833cb54a804ab',\n",
       " 'b195dde112354d1a9ed818cf2392c166',\n",
       " 'db563b5300ad4361b87656306679e51f',\n",
       " 'ea7163393b7a41a0b40142810885d481',\n",
       " '5983e41ab9fd4e30b8d4395b258ab3ef',\n",
       " 'e077c01ae9524e5aa815f8ed12cffecb',\n",
       " '21b027761ec644e7af65c4ecadc5aeb6',\n",
       " 'c465e8c6dcec4048b9090f6f1f79b399',\n",
       " '860954d2ebbe4b1bb627b94fba7717e8',\n",
       " '0c2f096b7446445e877728eb780a232d',\n",
       " 'bbb8796262104c9b89762005c99020f0',\n",
       " 'aa5c00ae73eb497a91310ddbb1c906a3',\n",
       " '6b732832dc064bf5b1fb4b39e00248f4',\n",
       " '27f525c4b99f498d9b13510d25858f76',\n",
       " '336ed2a2718444a78c9287ea99bb8140',\n",
       " '5108aaac472b482bb00a7c6f491338e1',\n",
       " 'ca817a6d72d54921a6c016d02529e2ed',\n",
       " '2756db6a88d243909c1722f14a38d3b6',\n",
       " 'ca50dbc132c54cfaa89d24aa3669edc4',\n",
       " 'cd2beb149b0b466199bd1b2bbf4d9095',\n",
       " '87af359f37bb4356b2c74d72ccb03d1f',\n",
       " '3fdafc53df4546a395ca33414fc14ba6',\n",
       " '062b6e62c03041cf8bf1eed0c02a8b19',\n",
       " '2c520ed131ba42b4a8cb02c42050a24d',\n",
       " '519d3abd0ab64acaa5f2ef32e8dd368d',\n",
       " 'f506b06e76e244749e7bbf35d7a3ab77',\n",
       " '92a347e42de645089951fedb74e5dde2',\n",
       " 'ba7f1875d0244604aae833c4d4034f48']"
      ]
     },
     "execution_count": 13,
     "metadata": {},
     "output_type": "execute_result"
    }
   ],
   "source": [
    "print(\"Adding texts to Vector Store\")\n",
    "texts, metadatas = zip(*((doc.page_content, doc.metadata) for doc in docs))\n",
    "vectorstore.add_texts(texts=texts, metadatas=metadatas)"
   ]
  },
  {
   "cell_type": "markdown",
   "metadata": {},
   "source": [
    "## Query"
   ]
  },
  {
   "cell_type": "markdown",
   "metadata": {},
   "source": [
    "#### Define the Retriever\n",
    "by setting \"k\" in kwargs, we can control how many results are retrieved from the vector store and passed into the Flare chain.\n",
    "\n",
    "- Ideally, we should not provide a \"K\", but the only way I can get this to work is limit the K above to a single result in order to not breach the token limit of 4096"
   ]
  },
  {
   "cell_type": "code",
   "execution_count": 14,
   "metadata": {},
   "outputs": [],
   "source": [
    "import sys\n",
    "from langchain.chains import FlareChain\n",
    "from langchain.chat_models import ChatOpenAI\n",
    "\n",
    "\"\"\"\n",
    "Due to the default FLARE chain having the openAI model hardcoded \n",
    "to a 4096 token model, we have to limit the number of tokens. \n",
    "To do that we use k=1.\n",
    "\"\"\"\n",
    "#retriever = vectorstore.as_retriever(search_kwargs={\"k\": 1})\n",
    "retriever = vectorstore.as_retriever()"
   ]
  },
  {
   "cell_type": "markdown",
   "metadata": {},
   "source": [
    "#### Define FLARE chain\n",
    "\n",
    "Appears that the model attribute is ignored as an error is thrown if more than 4096 tokens are supplied.\n",
    "\n",
    "- the only way I can get this to work is to either:\n",
    "\n",
    "    - limit the K above to a single result in order to not breach the token limit. But that means we are not retreiving enough context from the data.\n",
    "    - reduce the chunk size to create smaller chunks and thus reduce the number of tokens passed to the LLM."
   ]
  },
  {
   "cell_type": "code",
   "execution_count": null,
   "metadata": {},
   "outputs": [],
   "source": [
    "flare = FlareChain.from_llm(\n",
    "    ChatOpenAI(temperature=0, model=\"gpt-3.5-turbo-16k\"),\n",
    "    retriever=retriever,\n",
    "    max_generation_len=164,\n",
    "    min_prob=0.3,\n",
    ")\n",
    "\n",
    "# Define your query\n",
    "query = \"List the orders from the case AMALGAMATED vs MARSDEN\"\n",
    "\n",
    "flare_result = flare.run(query)\n",
    "\n",
    "print(f\"QUERY: {query}\\n\\n\")\n",
    "print(f\"FLARE RESULT:\\n    {flare_result}\\n\\n\")"
   ]
  },
  {
   "cell_type": "markdown",
   "metadata": {},
   "source": [
    "#### Use OpenAI LLM for comparison of not using FLARE"
   ]
  },
  {
   "cell_type": "code",
   "execution_count": null,
   "metadata": {},
   "outputs": [],
   "source": [
    "from langchain.llms import OpenAI\n",
    "\n",
    "llm = OpenAI()\n",
    "llm_result = llm(query)\n",
    "print(f\"LLM RESULT:\\n    {llm_result}\\n\\n\")"
   ]
  },
  {
   "cell_type": "markdown",
   "metadata": {},
   "source": []
  }
 ],
 "metadata": {
  "kernelspec": {
   "display_name": "env_vector",
   "language": "python",
   "name": "python3"
  },
  "language_info": {
   "codemirror_mode": {
    "name": "ipython",
    "version": 3
   },
   "file_extension": ".py",
   "mimetype": "text/x-python",
   "name": "python",
   "nbconvert_exporter": "python",
   "pygments_lexer": "ipython3",
   "version": "3.9.18"
  },
  "orig_nbformat": 4
 },
 "nbformat": 4,
 "nbformat_minor": 2
}
